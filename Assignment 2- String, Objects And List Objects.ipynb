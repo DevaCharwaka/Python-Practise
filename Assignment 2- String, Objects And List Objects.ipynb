{
 "cells": [
  {
   "cell_type": "markdown",
   "id": "2f88f0c8",
   "metadata": {},
   "source": [
    "### 1. Create the below pattern using nested for loop in Python."
   ]
  },
  {
   "cell_type": "code",
   "execution_count": 40,
   "id": "2eac8674",
   "metadata": {},
   "outputs": [
    {
     "name": "stdout",
     "output_type": "stream",
     "text": [
      "\n",
      "*\n",
      "**\n",
      "***\n",
      "****\n",
      "*****\n",
      "****\n",
      "***\n",
      "**\n",
      "*\n"
     ]
    }
   ],
   "source": [
    "for i in range(6):\n",
    "    print('*'*i)\n",
    "for j in range(4,0,-1):\n",
    "    print('*'*j)\n",
    "    "
   ]
  },
  {
   "cell_type": "markdown",
   "id": "419f47ba",
   "metadata": {},
   "source": [
    "### 2. Write a Python program to reverse a word after accepting the input from the user."
   ]
  },
  {
   "cell_type": "code",
   "execution_count": 47,
   "id": "4a21059a",
   "metadata": {},
   "outputs": [
    {
     "name": "stdout",
     "output_type": "stream",
     "text": [
      "Enter the string ineuron\n",
      "Reverse of ineuron is norueni\n"
     ]
    }
   ],
   "source": [
    "str=input(\"Enter the string \")\n",
    "b=str[::-1]\n",
    "print(\"Reverse of \"+ str+ \" is \"+b)"
   ]
  },
  {
   "cell_type": "code",
   "execution_count": null,
   "id": "0c53702d",
   "metadata": {},
   "outputs": [],
   "source": []
  }
 ],
 "metadata": {
  "kernelspec": {
   "display_name": "Python 3",
   "language": "python",
   "name": "python3"
  },
  "language_info": {
   "codemirror_mode": {
    "name": "ipython",
    "version": 3
   },
   "file_extension": ".py",
   "mimetype": "text/x-python",
   "name": "python",
   "nbconvert_exporter": "python",
   "pygments_lexer": "ipython3",
   "version": "3.8.8"
  }
 },
 "nbformat": 4,
 "nbformat_minor": 5
}
